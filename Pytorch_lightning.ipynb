{
 "cells": [
  {
   "cell_type": "code",
   "execution_count": null,
   "metadata": {},
   "outputs": [],
   "source": [
    "from vlnce_baselines.common.env_utils import construct_envs\n",
    "from habitat import Config\n",
    "from vlnce_baselines.config.default import get_config\n",
    "from habitat_baselines.common.environments import get_env_class\n",
    "\n",
    "#Import config and perform some manipulation\n",
    "exp_config ='vlnce_baselines/config/paper_configs/transformer.yaml'\n",
    "config = get_config(exp_config, None)\n",
    "split = config.TASK_CONFIG.DATASET.SPLIT\n",
    "config.defrost()\n",
    "config.TASK_CONFIG.TASK.NDTW.SPLIT = split\n",
    "config.TASK_CONFIG.TASK.SDTW.SPLIT = split\n",
    "\n",
    "# if doing teacher forcing, don't switch the scene until it is complete\n",
    "if config.DAGGER.P == 1.0:\n",
    "    config.TASK_CONFIG.ENVIRONMENT.ITERATOR_OPTIONS.MAX_SCENE_REPEAT_STEPS = (\n",
    "        -1\n",
    "    )\n",
    "config.freeze()\n",
    "envs = construct_envs(config, get_env_class(config.ENV_NAME))\n",
    "obs=envs.reset()"
   ]
  },
  {
   "cell_type": "markdown",
   "metadata": {},
   "source": [
    "## Setup Actor Critic Agent"
   ]
  },
  {
   "cell_type": "code",
   "execution_count": null,
   "metadata": {},
   "outputs": [],
   "source": [
    "import pytorch_lightning as pl\n",
    "from vlnce_baselines.models.transformer_policy_lightning import TransformerEncDec\n",
    "trainer = pl.Trainer()\n",
    "EncDec = TransformerEncDec()\n",
    "    trainer.fit(EncDec)\n",
    "\n",
    "from vlnce_baselines.models.transformer_policy import TransformerPolicy\n",
    "import torch\n",
    "\n",
    "load_from_ckpt = False\n",
    "device = (\n",
    "    torch.device(\"cuda\", config.TORCH_GPU_ID)\n",
    "    if torch.cuda.is_available()\n",
    "    else torch.device(\"cpu\")\n",
    ")\n",
    "model_config = config.MODEL\n",
    "\n",
    "model_config.defrost()\n",
    "model_config.TORCH_GPU_ID = config.TORCH_GPU_ID\n",
    "model_config.freeze()\n",
    "actor_critic = TransformerPolicy(\n",
    "                observation_space=envs.observation_spaces[0],\n",
    "                action_space=envs.action_spaces[0],\n",
    "                model_config=model_config,\n",
    "                num_processes = config.NUM_PROCESSES,\n",
    "                batch_size=config.DAGGER.BATCH_SIZE,\n",
    "            )\n",
    "actor_critic.to(device)\n",
    "\n",
    "optimizer = torch.optim.Adam(actor_critic.parameters(), \n",
    "                                         lr=config.MODEL.TRANSFORMER.lr, \n",
    "                                         betas=(0.9, 0.98), eps=1e-9)\n",
    "\n",
    "scheduler = torch.optim.lr_scheduler.ReduceLROnPlateau(optimizer, mode='max', factor=0.1, \n",
    "                                                               patience=config.MODEL.TRANSFORMER.scheduler_patience, \n",
    "                                                               verbose=True, min_lr=1e-6)\n",
    "\n",
    "if load_from_ckpt:\n",
    "    ckpt_dict = load_checkpoint(ckpt_path, map_location=\"cpu\")\n",
    "    actor_critic.load_state_dict(ckpt_dict[\"state_dict\"])\n",
    "    \n",
    "# if config.DAGGER.PRELOAD_LMDB_FEATURES:\n",
    "#     envs.close()\n",
    "#     del envs\n",
    "#     envs = None"
   ]
  }
 ],
 "metadata": {
  "kernelspec": {
   "display_name": "habitat",
   "language": "python",
   "name": "habitat"
  },
  "language_info": {
   "codemirror_mode": {
    "name": "ipython",
    "version": 3
   },
   "file_extension": ".py",
   "mimetype": "text/x-python",
   "name": "python",
   "nbconvert_exporter": "python",
   "pygments_lexer": "ipython3",
   "version": "3.6.10"
  }
 },
 "nbformat": 4,
 "nbformat_minor": 4
}
